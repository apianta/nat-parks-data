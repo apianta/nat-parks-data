{
 "cells": [
  {
   "cell_type": "code",
   "execution_count": 23,
   "metadata": {},
   "outputs": [],
   "source": [
    "import pandas as pd\n",
    "import requests\n",
    "from bs4 import BeautifulSoup\n",
    "import re\n",
    "import matplotlib.pyplot as plt\n",
    "import numpy as np\n",
    "import seaborn as sns"
   ]
  },
  {
   "cell_type": "code",
   "execution_count": 3,
   "metadata": {},
   "outputs": [],
   "source": [
    "url = 'https://en.wikipedia.org/wiki/List_of_national_parks_of_the_United_States'\n",
    "html = requests.get(url).text\n",
    "soup = BeautifulSoup(html, 'lxml')"
   ]
  },
  {
   "cell_type": "code",
   "execution_count": 4,
   "metadata": {},
   "outputs": [],
   "source": [
    "# table = soup.find('table',{'class': re.compile('wikitable sortable')})\n",
    "table_rows = soup.find_all('tr')"
   ]
  },
  {
   "cell_type": "code",
   "execution_count": 5,
   "metadata": {},
   "outputs": [],
   "source": [
    "data = []\n",
    "for row in table_rows:\n",
    "    data.append([t.text.strip() for t in row.find_all('td')])"
   ]
  },
  {
   "cell_type": "code",
   "execution_count": 6,
   "metadata": {},
   "outputs": [
    {
     "output_type": "execute_result",
     "data": {
      "text/plain": "             Name  Image                                           Location  \\\n0          Acadia    NaN           Maine44°21′N 68°13′W﻿ / ﻿44.35°N 68.21°W   \n1  American Samoa    NaN  American Samoa14°15′S 170°41′W﻿ / ﻿14.25°S 170...   \n2          Arches    NaN          Utah38°41′N 109°34′W﻿ / ﻿38.68°N 109.57°W   \n3        Badlands    NaN  South Dakota43°45′N 102°30′W﻿ / ﻿43.75°N 102.50°W   \n4        Big Bend    NaN         Texas29°15′N 103°15′W﻿ / ﻿29.25°N 103.25°W   \n\n  Date established as park[5][10]                 Area (2019)[11]  \\\n0               February 26, 1919     49,076.63 acres (198.6 km2)   \n1                October 31, 1988       8,256.67 acres (33.4 km2)   \n2               November 12, 1971     76,678.98 acres (310.3 km2)   \n3               November 10, 1978    242,755.94 acres (982.4 km2)   \n4                   June 12, 1944  801,163.21 acres (3,242.2 km2)   \n\n   Recreation visitors (2018)[8]  \\\n0                        3537575   \n1                          28626   \n2                        1663557   \n3                        1008942   \n4                         440091   \n\n                                         Description  \n0  Covering most of Mount Desert Island and other...  \n1  The southernmost national park is on three Sam...  \n2  This site features more than 2,000 natural san...  \n3  The Badlands are a collection of buttes, pinna...  \n4  Named for the prominent bend in the Rio Grande...  ",
      "text/html": "<div>\n<style scoped>\n    .dataframe tbody tr th:only-of-type {\n        vertical-align: middle;\n    }\n\n    .dataframe tbody tr th {\n        vertical-align: top;\n    }\n\n    .dataframe thead th {\n        text-align: right;\n    }\n</style>\n<table border=\"1\" class=\"dataframe\">\n  <thead>\n    <tr style=\"text-align: right;\">\n      <th></th>\n      <th>Name</th>\n      <th>Image</th>\n      <th>Location</th>\n      <th>Date established as park[5][10]</th>\n      <th>Area (2019)[11]</th>\n      <th>Recreation visitors (2018)[8]</th>\n      <th>Description</th>\n    </tr>\n  </thead>\n  <tbody>\n    <tr>\n      <th>0</th>\n      <td>Acadia</td>\n      <td>NaN</td>\n      <td>Maine44°21′N 68°13′W﻿ / ﻿44.35°N 68.21°W</td>\n      <td>February 26, 1919</td>\n      <td>49,076.63 acres (198.6 km2)</td>\n      <td>3537575</td>\n      <td>Covering most of Mount Desert Island and other...</td>\n    </tr>\n    <tr>\n      <th>1</th>\n      <td>American Samoa</td>\n      <td>NaN</td>\n      <td>American Samoa14°15′S 170°41′W﻿ / ﻿14.25°S 170...</td>\n      <td>October 31, 1988</td>\n      <td>8,256.67 acres (33.4 km2)</td>\n      <td>28626</td>\n      <td>The southernmost national park is on three Sam...</td>\n    </tr>\n    <tr>\n      <th>2</th>\n      <td>Arches</td>\n      <td>NaN</td>\n      <td>Utah38°41′N 109°34′W﻿ / ﻿38.68°N 109.57°W</td>\n      <td>November 12, 1971</td>\n      <td>76,678.98 acres (310.3 km2)</td>\n      <td>1663557</td>\n      <td>This site features more than 2,000 natural san...</td>\n    </tr>\n    <tr>\n      <th>3</th>\n      <td>Badlands</td>\n      <td>NaN</td>\n      <td>South Dakota43°45′N 102°30′W﻿ / ﻿43.75°N 102.50°W</td>\n      <td>November 10, 1978</td>\n      <td>242,755.94 acres (982.4 km2)</td>\n      <td>1008942</td>\n      <td>The Badlands are a collection of buttes, pinna...</td>\n    </tr>\n    <tr>\n      <th>4</th>\n      <td>Big Bend</td>\n      <td>NaN</td>\n      <td>Texas29°15′N 103°15′W﻿ / ﻿29.25°N 103.25°W</td>\n      <td>June 12, 1944</td>\n      <td>801,163.21 acres (3,242.2 km2)</td>\n      <td>440091</td>\n      <td>Named for the prominent bend in the Rio Grande...</td>\n    </tr>\n  </tbody>\n</table>\n</div>"
     },
     "metadata": {},
     "execution_count": 6
    }
   ],
   "source": [
    "raw_data = pd.read_html(url, header = 0)[1]\n",
    "raw_data.head()"
   ]
  },
  {
   "cell_type": "code",
   "execution_count": 7,
   "metadata": {},
   "outputs": [],
   "source": [
    "df = raw_data.copy()"
   ]
  },
  {
   "cell_type": "code",
   "execution_count": 8,
   "metadata": {},
   "outputs": [
    {
     "output_type": "execute_result",
     "data": {
      "text/plain": "Name                                object\nImage                              float64\nLocation                            object\nDate established as park[5][10]     object\nArea (2019)[11]                     object\nRecreation visitors (2018)[8]        int64\nDescription                         object\ndtype: object"
     },
     "metadata": {},
     "execution_count": 8
    }
   ],
   "source": [
    "df.dtypes"
   ]
  },
  {
   "cell_type": "code",
   "execution_count": 9,
   "metadata": {},
   "outputs": [
    {
     "output_type": "execute_result",
     "data": {
      "text/plain": "array(['Name', 'Image', 'Location', 'Date established as park[5][10]',\n       'Area (2019)[11]', 'Recreation visitors (2018)[8]', 'Description'],\n      dtype=object)"
     },
     "metadata": {},
     "execution_count": 9
    }
   ],
   "source": [
    "df.columns.values"
   ]
  },
  {
   "cell_type": "code",
   "execution_count": 10,
   "metadata": {},
   "outputs": [],
   "source": [
    "columns = ['Name', 'Image', 'Location', 'Date established as park[5][10]', 'Area (2019)[11]', 'Recreation visitors (2018)[8]', 'Description']"
   ]
  },
  {
   "cell_type": "code",
   "execution_count": 11,
   "metadata": {},
   "outputs": [
    {
     "output_type": "execute_result",
     "data": {
      "text/plain": "dtype('O')"
     },
     "metadata": {},
     "execution_count": 11
    }
   ],
   "source": [
    "df['Location'].dtype"
   ]
  },
  {
   "cell_type": "code",
   "execution_count": 12,
   "metadata": {},
   "outputs": [
    {
     "output_type": "execute_result",
     "data": {
      "text/plain": "0                       Maine°′N °′W﻿ / ﻿.°N .°W\n1              American Samoa°′S °′W﻿ / ﻿.°S .°W\n2                        Utah°′N °′W﻿ / ﻿.°N .°W\n3                South Dakota°′N °′W﻿ / ﻿.°N .°W\n4                       Texas°′N °′W﻿ / ﻿.°N .°W\n                         ...                    \n57               South Dakota°′N °′W﻿ / ﻿.°N .°W\n58                     Alaska°′N °′W﻿ / ﻿.°N .°W\n59    Wyoming, Montana, Idaho°′N °′W﻿ / ﻿.°N .°W\n60                 California°′N °′W﻿ / ﻿.°N .°W\n61                       Utah°′N °′W﻿ / ﻿.°N .°W\nName: Location, Length: 62, dtype: object"
     },
     "metadata": {},
     "execution_count": 12
    }
   ],
   "source": [
    "df['Location'] = df['Location'].str.replace(re.compile('\\d'), '')\n",
    "df['Location']"
   ]
  },
  {
   "cell_type": "code",
   "execution_count": 13,
   "metadata": {},
   "outputs": [
    {
     "output_type": "execute_result",
     "data": {
      "text/plain": "0                       Maine′N ′W﻿ / ﻿.N .W\n1              American Samoa′S ′W﻿ / ﻿.S .W\n2                        Utah′N ′W﻿ / ﻿.N .W\n3                South Dakota′N ′W﻿ / ﻿.N .W\n4                       Texas′N ′W﻿ / ﻿.N .W\n                       ...                  \n57               South Dakota′N ′W﻿ / ﻿.N .W\n58                     Alaska′N ′W﻿ / ﻿.N .W\n59    Wyoming, Montana, Idaho′N ′W﻿ / ﻿.N .W\n60                 California′N ′W﻿ / ﻿.N .W\n61                       Utah′N ′W﻿ / ﻿.N .W\nName: Location, Length: 62, dtype: object"
     },
     "metadata": {},
     "execution_count": 13
    }
   ],
   "source": [
    "df['Location'] = df['Location'].str.replace(re.compile('°', flags = re.UNICODE), '')\n",
    "df['Location']"
   ]
  },
  {
   "cell_type": "code",
   "execution_count": 14,
   "metadata": {},
   "outputs": [
    {
     "output_type": "execute_result",
     "data": {
      "text/plain": "0                             Maine\n1     American Samoa′S ′W﻿ / ﻿.S .W\n2                              Utah\n3                      South Dakota\n4                             Texas\n                  ...              \n57                     South Dakota\n58                           Alaska\n59          Wyoming, Montana, Idaho\n60                       California\n61                             Utah\nName: Location, Length: 62, dtype: object"
     },
     "metadata": {},
     "execution_count": 14
    }
   ],
   "source": [
    "df['Location'] = df['Location'].str.replace(re.compile('′N ′W﻿ / ﻿.N .W'), '')\n",
    "df['Location']"
   ]
  },
  {
   "cell_type": "code",
   "execution_count": 15,
   "metadata": {},
   "outputs": [
    {
     "output_type": "execute_result",
     "data": {
      "text/plain": "0                       Maine\n1              American Samoa\n2                        Utah\n3                South Dakota\n4                       Texas\n               ...           \n57               South Dakota\n58                     Alaska\n59    Wyoming, Montana, Idaho\n60                 California\n61                       Utah\nName: Location, Length: 62, dtype: object"
     },
     "metadata": {},
     "execution_count": 15
    }
   ],
   "source": [
    "df['Location'] = df['Location'].str.replace(re.compile('′S ′W﻿ / ﻿.S .W'), '')\n",
    "df['Location']"
   ]
  },
  {
   "cell_type": "code",
   "execution_count": 16,
   "metadata": {},
   "outputs": [
    {
     "output_type": "execute_result",
     "data": {
      "text/plain": "             Name  Image        Location Date established as park[5][10]  \\\n0          Acadia    NaN           Maine               February 26, 1919   \n1  American Samoa    NaN  American Samoa                October 31, 1988   \n2          Arches    NaN            Utah               November 12, 1971   \n3        Badlands    NaN    South Dakota               November 10, 1978   \n4        Big Bend    NaN           Texas                   June 12, 1944   \n\n                  Area (2019)[11]  Recreation visitors (2018)[8]  \\\n0     49,076.63 acres (198.6 km2)                        3537575   \n1       8,256.67 acres (33.4 km2)                          28626   \n2     76,678.98 acres (310.3 km2)                        1663557   \n3    242,755.94 acres (982.4 km2)                        1008942   \n4  801,163.21 acres (3,242.2 km2)                         440091   \n\n                                         Description  \n0  Covering most of Mount Desert Island and other...  \n1  The southernmost national park is on three Sam...  \n2  This site features more than 2,000 natural san...  \n3  The Badlands are a collection of buttes, pinna...  \n4  Named for the prominent bend in the Rio Grande...  ",
      "text/html": "<div>\n<style scoped>\n    .dataframe tbody tr th:only-of-type {\n        vertical-align: middle;\n    }\n\n    .dataframe tbody tr th {\n        vertical-align: top;\n    }\n\n    .dataframe thead th {\n        text-align: right;\n    }\n</style>\n<table border=\"1\" class=\"dataframe\">\n  <thead>\n    <tr style=\"text-align: right;\">\n      <th></th>\n      <th>Name</th>\n      <th>Image</th>\n      <th>Location</th>\n      <th>Date established as park[5][10]</th>\n      <th>Area (2019)[11]</th>\n      <th>Recreation visitors (2018)[8]</th>\n      <th>Description</th>\n    </tr>\n  </thead>\n  <tbody>\n    <tr>\n      <th>0</th>\n      <td>Acadia</td>\n      <td>NaN</td>\n      <td>Maine</td>\n      <td>February 26, 1919</td>\n      <td>49,076.63 acres (198.6 km2)</td>\n      <td>3537575</td>\n      <td>Covering most of Mount Desert Island and other...</td>\n    </tr>\n    <tr>\n      <th>1</th>\n      <td>American Samoa</td>\n      <td>NaN</td>\n      <td>American Samoa</td>\n      <td>October 31, 1988</td>\n      <td>8,256.67 acres (33.4 km2)</td>\n      <td>28626</td>\n      <td>The southernmost national park is on three Sam...</td>\n    </tr>\n    <tr>\n      <th>2</th>\n      <td>Arches</td>\n      <td>NaN</td>\n      <td>Utah</td>\n      <td>November 12, 1971</td>\n      <td>76,678.98 acres (310.3 km2)</td>\n      <td>1663557</td>\n      <td>This site features more than 2,000 natural san...</td>\n    </tr>\n    <tr>\n      <th>3</th>\n      <td>Badlands</td>\n      <td>NaN</td>\n      <td>South Dakota</td>\n      <td>November 10, 1978</td>\n      <td>242,755.94 acres (982.4 km2)</td>\n      <td>1008942</td>\n      <td>The Badlands are a collection of buttes, pinna...</td>\n    </tr>\n    <tr>\n      <th>4</th>\n      <td>Big Bend</td>\n      <td>NaN</td>\n      <td>Texas</td>\n      <td>June 12, 1944</td>\n      <td>801,163.21 acres (3,242.2 km2)</td>\n      <td>440091</td>\n      <td>Named for the prominent bend in the Rio Grande...</td>\n    </tr>\n  </tbody>\n</table>\n</div>"
     },
     "metadata": {},
     "execution_count": 16
    }
   ],
   "source": [
    "df.head()"
   ]
  },
  {
   "cell_type": "code",
   "execution_count": 17,
   "metadata": {},
   "outputs": [
    {
     "output_type": "execute_result",
     "data": {
      "text/plain": "array(['Name', 'Location', 'Date established as park[5][10]',\n       'Area (2019)[11]', 'Recreation visitors (2018)[8]', 'Description'],\n      dtype=object)"
     },
     "metadata": {},
     "execution_count": 17
    }
   ],
   "source": [
    "# remove unnecessary columns('Image')\n",
    "df = df.drop(['Image'], axis = 1)\n",
    "df.columns.values\n"
   ]
  },
  {
   "cell_type": "code",
   "execution_count": 18,
   "metadata": {},
   "outputs": [
    {
     "output_type": "execute_result",
     "data": {
      "text/plain": "             Name        Location Date established as park[5][10]  \\\n0          Acadia           Maine               February 26, 1919   \n1  American Samoa  American Samoa                October 31, 1988   \n2          Arches            Utah               November 12, 1971   \n3        Badlands    South Dakota               November 10, 1978   \n4        Big Bend           Texas                   June 12, 1944   \n\n                  Area (2019)[11]  Recreation visitors (2018)[8]  \\\n0     49,076.63 acres (198.6 km2)                        3537575   \n1       8,256.67 acres (33.4 km2)                          28626   \n2     76,678.98 acres (310.3 km2)                        1663557   \n3    242,755.94 acres (982.4 km2)                        1008942   \n4  801,163.21 acres (3,242.2 km2)                         440091   \n\n                                         Description  \n0  Covering most of Mount Desert Island and other...  \n1  The southernmost national park is on three Sam...  \n2  This site features more than 2,000 natural san...  \n3  The Badlands are a collection of buttes, pinna...  \n4  Named for the prominent bend in the Rio Grande...  ",
      "text/html": "<div>\n<style scoped>\n    .dataframe tbody tr th:only-of-type {\n        vertical-align: middle;\n    }\n\n    .dataframe tbody tr th {\n        vertical-align: top;\n    }\n\n    .dataframe thead th {\n        text-align: right;\n    }\n</style>\n<table border=\"1\" class=\"dataframe\">\n  <thead>\n    <tr style=\"text-align: right;\">\n      <th></th>\n      <th>Name</th>\n      <th>Location</th>\n      <th>Date established as park[5][10]</th>\n      <th>Area (2019)[11]</th>\n      <th>Recreation visitors (2018)[8]</th>\n      <th>Description</th>\n    </tr>\n  </thead>\n  <tbody>\n    <tr>\n      <th>0</th>\n      <td>Acadia</td>\n      <td>Maine</td>\n      <td>February 26, 1919</td>\n      <td>49,076.63 acres (198.6 km2)</td>\n      <td>3537575</td>\n      <td>Covering most of Mount Desert Island and other...</td>\n    </tr>\n    <tr>\n      <th>1</th>\n      <td>American Samoa</td>\n      <td>American Samoa</td>\n      <td>October 31, 1988</td>\n      <td>8,256.67 acres (33.4 km2)</td>\n      <td>28626</td>\n      <td>The southernmost national park is on three Sam...</td>\n    </tr>\n    <tr>\n      <th>2</th>\n      <td>Arches</td>\n      <td>Utah</td>\n      <td>November 12, 1971</td>\n      <td>76,678.98 acres (310.3 km2)</td>\n      <td>1663557</td>\n      <td>This site features more than 2,000 natural san...</td>\n    </tr>\n    <tr>\n      <th>3</th>\n      <td>Badlands</td>\n      <td>South Dakota</td>\n      <td>November 10, 1978</td>\n      <td>242,755.94 acres (982.4 km2)</td>\n      <td>1008942</td>\n      <td>The Badlands are a collection of buttes, pinna...</td>\n    </tr>\n    <tr>\n      <th>4</th>\n      <td>Big Bend</td>\n      <td>Texas</td>\n      <td>June 12, 1944</td>\n      <td>801,163.21 acres (3,242.2 km2)</td>\n      <td>440091</td>\n      <td>Named for the prominent bend in the Rio Grande...</td>\n    </tr>\n  </tbody>\n</table>\n</div>"
     },
     "metadata": {},
     "execution_count": 18
    }
   ],
   "source": [
    "# show new dataframe\n",
    "df.head()"
   ]
  },
  {
   "cell_type": "code",
   "execution_count": 19,
   "metadata": {},
   "outputs": [],
   "source": [
    "# rename columns\n",
    "df.columns = ['name', 'location', 'date_established',\n",
    "       'area', 'recreation_visitors', 'description']"
   ]
  },
  {
   "cell_type": "code",
   "execution_count": 20,
   "metadata": {},
   "outputs": [
    {
     "output_type": "execute_result",
     "data": {
      "text/plain": "             name        location   date_established  \\\n0          Acadia           Maine  February 26, 1919   \n1  American Samoa  American Samoa   October 31, 1988   \n2          Arches            Utah  November 12, 1971   \n3        Badlands    South Dakota  November 10, 1978   \n4        Big Bend           Texas      June 12, 1944   \n\n                             area  recreation_visitors  \\\n0     49,076.63 acres (198.6 km2)              3537575   \n1       8,256.67 acres (33.4 km2)                28626   \n2     76,678.98 acres (310.3 km2)              1663557   \n3    242,755.94 acres (982.4 km2)              1008942   \n4  801,163.21 acres (3,242.2 km2)               440091   \n\n                                         description  \n0  Covering most of Mount Desert Island and other...  \n1  The southernmost national park is on three Sam...  \n2  This site features more than 2,000 natural san...  \n3  The Badlands are a collection of buttes, pinna...  \n4  Named for the prominent bend in the Rio Grande...  ",
      "text/html": "<div>\n<style scoped>\n    .dataframe tbody tr th:only-of-type {\n        vertical-align: middle;\n    }\n\n    .dataframe tbody tr th {\n        vertical-align: top;\n    }\n\n    .dataframe thead th {\n        text-align: right;\n    }\n</style>\n<table border=\"1\" class=\"dataframe\">\n  <thead>\n    <tr style=\"text-align: right;\">\n      <th></th>\n      <th>name</th>\n      <th>location</th>\n      <th>date_established</th>\n      <th>area</th>\n      <th>recreation_visitors</th>\n      <th>description</th>\n    </tr>\n  </thead>\n  <tbody>\n    <tr>\n      <th>0</th>\n      <td>Acadia</td>\n      <td>Maine</td>\n      <td>February 26, 1919</td>\n      <td>49,076.63 acres (198.6 km2)</td>\n      <td>3537575</td>\n      <td>Covering most of Mount Desert Island and other...</td>\n    </tr>\n    <tr>\n      <th>1</th>\n      <td>American Samoa</td>\n      <td>American Samoa</td>\n      <td>October 31, 1988</td>\n      <td>8,256.67 acres (33.4 km2)</td>\n      <td>28626</td>\n      <td>The southernmost national park is on three Sam...</td>\n    </tr>\n    <tr>\n      <th>2</th>\n      <td>Arches</td>\n      <td>Utah</td>\n      <td>November 12, 1971</td>\n      <td>76,678.98 acres (310.3 km2)</td>\n      <td>1663557</td>\n      <td>This site features more than 2,000 natural san...</td>\n    </tr>\n    <tr>\n      <th>3</th>\n      <td>Badlands</td>\n      <td>South Dakota</td>\n      <td>November 10, 1978</td>\n      <td>242,755.94 acres (982.4 km2)</td>\n      <td>1008942</td>\n      <td>The Badlands are a collection of buttes, pinna...</td>\n    </tr>\n    <tr>\n      <th>4</th>\n      <td>Big Bend</td>\n      <td>Texas</td>\n      <td>June 12, 1944</td>\n      <td>801,163.21 acres (3,242.2 km2)</td>\n      <td>440091</td>\n      <td>Named for the prominent bend in the Rio Grande...</td>\n    </tr>\n  </tbody>\n</table>\n</div>"
     },
     "metadata": {},
     "execution_count": 20
    }
   ],
   "source": [
    "df.head()"
   ]
  },
  {
   "cell_type": "code",
   "execution_count": 27,
   "metadata": {},
   "outputs": [
    {
     "output_type": "execute_result",
     "data": {
      "text/plain": "pandas.core.series.Series"
     },
     "metadata": {},
     "execution_count": 27
    }
   ],
   "source": [
    "type(df['recreation_visitors'])"
   ]
  },
  {
   "cell_type": "code",
   "execution_count": null,
   "metadata": {},
   "outputs": [],
   "source": []
  }
 ],
 "metadata": {
  "language_info": {
   "codemirror_mode": {
    "name": "ipython",
    "version": 3
   },
   "file_extension": ".py",
   "mimetype": "text/x-python",
   "name": "python",
   "nbconvert_exporter": "python",
   "pygments_lexer": "ipython3",
   "version": "3.8.2-final"
  },
  "orig_nbformat": 2,
  "kernelspec": {
   "name": "python38264bitscrapeprojectsconda901ae9f8bcc847bb950c0e81bb13a187",
   "display_name": "Python 3.8.2 64-bit ('scrape_projects': conda)"
  }
 },
 "nbformat": 4,
 "nbformat_minor": 2
}